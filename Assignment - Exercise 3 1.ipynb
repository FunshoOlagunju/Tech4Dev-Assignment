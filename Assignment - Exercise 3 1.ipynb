{
 "cells": [
  {
   "cell_type": "markdown",
   "id": "e1b9dd06",
   "metadata": {},
   "source": [
    "1. Write a program that finds the maximum value of the given list, assuming that the list\n",
    "contains at least one element.\n",
    "Try your program with the following array\n",
    "2 4 7 4 23 5 1 4 8 9"
   ]
  },
  {
   "cell_type": "code",
   "execution_count": 2,
   "id": "21af6daf",
   "metadata": {},
   "outputs": [
    {
     "name": "stdout",
     "output_type": "stream",
     "text": [
      "23\n"
     ]
    }
   ],
   "source": [
    "#using max function\n",
    "A_list = [2,4,7,4,23,5,1,4,8,9]\n",
    "print(max(A_list))"
   ]
  },
  {
   "cell_type": "markdown",
   "id": "c49c3a09",
   "metadata": {},
   "source": [
    "2. Write a program that calculates the average value of the given list.\n",
    "Try your program with the following list\n",
    "4 7 1 5 11 53 12 46 84 23"
   ]
  },
  {
   "cell_type": "code",
   "execution_count": 3,
   "id": "90286965",
   "metadata": {},
   "outputs": [
    {
     "name": "stdout",
     "output_type": "stream",
     "text": [
      "24.6\n"
     ]
    }
   ],
   "source": [
    "#using mean\n",
    "from statistics import mean\n",
    "B_list = [4,7,1,5,11,53,12,46,84,23]\n",
    "print(mean(B_list))"
   ]
  },
  {
   "cell_type": "markdown",
   "id": "be2f6f39",
   "metadata": {},
   "source": [
    "3. Write a program that prints the given list of integers in reverse order.\n",
    "Try your program with the following list\n",
    "2 6 7 45 23 53 14 45 89 5\n"
   ]
  },
  {
   "cell_type": "code",
   "execution_count": 5,
   "id": "0c55be78",
   "metadata": {},
   "outputs": [
    {
     "name": "stdout",
     "output_type": "stream",
     "text": [
      "[5, 89, 45, 14, 53, 23, 45, 7, 6, 2]\n"
     ]
    }
   ],
   "source": [
    "def Reverse(lst):\n",
    "       return (lst[::-1])\n",
    "    \n",
    "\n",
    "C_list = [2,6,7,45,23,53,14,45,89,5]\n",
    "print(Reverse(C_list))\n"
   ]
  },
  {
   "cell_type": "markdown",
   "id": "89614fcd",
   "metadata": {},
   "source": [
    "4. Write a program that accepts two lists of integers and prints true if each element in the first\n",
    "list is less than the element at the same index in the second list. Your program should print\n",
    "false if the lists are not the same length."
   ]
  },
  {
   "cell_type": "code",
   "execution_count": 9,
   "id": "2314946e",
   "metadata": {},
   "outputs": [
    {
     "name": "stdout",
     "output_type": "stream",
     "text": [
      "True\n"
     ]
    }
   ],
   "source": [
    "def compare_lists(listA, listB):\n",
    "    if len(listA) != len(listB):\n",
    "        print(False)\n",
    "        return\n",
    "\n",
    "    result = all(x < y for x, y in zip(listA, listB))\n",
    "    print(result)\n",
    "\n",
    "listA = [5, 8, 9, 7, 4]\n",
    "listB = [6, 9, 10, 11, 12]\n",
    "\n",
    "compare_lists(listA, listB)\n"
   ]
  },
  {
   "cell_type": "markdown",
   "id": "3097079f",
   "metadata": {},
   "source": [
    "5. Write a program that accepts a list of integers and two indexes and swaps the elements at\n",
    "those indexes"
   ]
  },
  {
   "cell_type": "code",
   "execution_count": 10,
   "id": "7c733ccd",
   "metadata": {},
   "outputs": [
    {
     "data": {
      "text/plain": [
       "[7, 3, 5, 4, 2]"
      ]
     },
     "execution_count": 10,
     "metadata": {},
     "output_type": "execute_result"
    }
   ],
   "source": [
    "def swapPositions(lis, pos1, pos2):\n",
    " \n",
    "    for i, x in enumerate(lis):\n",
    " \n",
    "        if i == pos1:\n",
    " \n",
    "            elem1 = x\n",
    " \n",
    "        if i == pos2:\n",
    " \n",
    "            elem2 = x\n",
    " \n",
    "    lis[pos1] = elem2\n",
    " \n",
    "    lis[pos2] = elem1\n",
    " \n",
    "    return lis\n",
    "\n",
    "lis = [2, 3, 5, 4, 7]\n",
    "\n",
    "swapPositions(lis, 0, 4)"
   ]
  },
  {
   "cell_type": "markdown",
   "id": "f3c46521",
   "metadata": {},
   "source": [
    "6. Write a program that accepts two lists of integers and prints a new list containing all\n",
    "elements of the first list followed by all elements of the second"
   ]
  },
  {
   "cell_type": "code",
   "execution_count": 11,
   "id": "ca8a8213",
   "metadata": {},
   "outputs": [
    {
     "name": "stdout",
     "output_type": "stream",
     "text": [
      "New List: [1, 2, 3, 8, 5, 6, 7, 9, 4, 0]\n"
     ]
    }
   ],
   "source": [
    "def new_lists(listHe, listHer):\n",
    "    New_list = listHe + listHer\n",
    "    print(\"New List:\", New_list)\n",
    "\n",
    "listHe = [1, 2, 3, 8, 5]\n",
    "listHer = [6, 7, 9, 4, 0]\n",
    "\n",
    "new_lists(listHe, listHer)"
   ]
  },
  {
   "cell_type": "markdown",
   "id": "9de6ca58",
   "metadata": {},
   "source": [
    "7. Write a program that accepts a list of integers and an integer value as its parameters and\n",
    "prints the last index at which the value occurs in the list. The program should print –1 if the\n",
    "value is not found. For example, in the list [74, 85, 102, 99, 101, 85, 56], the last index of the\n",
    "value 85 is 5"
   ]
  },
  {
   "cell_type": "code",
   "execution_count": 16,
   "id": "2ae01526",
   "metadata": {},
   "outputs": [
    {
     "name": "stdout",
     "output_type": "stream",
     "text": [
      "5\n"
     ]
    }
   ],
   "source": [
    "def find_last_index(lst, value):\n",
    "    try:\n",
    "        last_index = len(lst) - 1 - lst[::-1].index(value)\n",
    "        print(last_index)\n",
    "    except ValueError:\n",
    "        print(-1)\n",
    "\n",
    "\n",
    "my_list = [74, 85, 102, 99, 101, 85, 56]\n",
    "search_value = 85\n",
    "\n",
    "find_last_index(my_list, search_value)\n"
   ]
  },
  {
   "cell_type": "markdown",
   "id": "aa8d9f7c",
   "metadata": {},
   "source": [
    "8. Write a program that prints the range of values in a list of integers. The range is defined as 1\n",
    "more than the difference between the maximum and minimum values in the list. For example, if a list contains the values [36, 12, 25, 19, 46, 31, 22] the program should return 35,You may assume that the list has at least one element"
   ]
  },
  {
   "cell_type": "code",
   "execution_count": 17,
   "id": "bd592e4e",
   "metadata": {},
   "outputs": [
    {
     "name": "stdout",
     "output_type": "stream",
     "text": [
      "35\n"
     ]
    }
   ],
   "source": [
    "def calculate_range(lst):\n",
    "    min_value = min(lst)\n",
    "    max_value = max(lst)\n",
    "    range_value = max_value - min_value + 1\n",
    "    print(range_value)\n",
    "\n",
    "list_Range = [36, 12, 25, 19, 46, 31, 22]\n",
    "calculate_range(list_Range)\n"
   ]
  },
  {
   "cell_type": "markdown",
   "id": "0415349d",
   "metadata": {},
   "source": [
    "9. Write a program that accepts a list of integers, a minimum value, and a maximum value and\n",
    "prints the count of how many elements from the list fall between the minimum and\n",
    "maximum (inclusive). For example, in the list [14, 1, 22, 17, 36, 7, -43, 5], for minimum value\n",
    "4 and maximum value 17, there are four elements whose values fall between 4 and 17"
   ]
  },
  {
   "cell_type": "code",
   "execution_count": 18,
   "id": "cea6b8da",
   "metadata": {},
   "outputs": [
    {
     "name": "stdout",
     "output_type": "stream",
     "text": [
      "4\n"
     ]
    }
   ],
   "source": [
    "def count_elements_in_range(lst, min_value, max_value):\n",
    "    count = sum(min_value <= x <= max_value for x in lst)\n",
    "    print(count)\n",
    "\n",
    "my_list = [14, 1, 22, 17, 36, 7, -43, 5]\n",
    "min_value = 4\n",
    "max_value = 17\n",
    "\n",
    "count_elements_in_range(my_list, min_value, max_value)\n"
   ]
  },
  {
   "cell_type": "markdown",
   "id": "9bab69f4",
   "metadata": {},
   "source": [
    "10. Write a program that accepts a list of real numbers and prints true if the list is in sorted\n",
    "(nondecreasing) order and false otherwise. For example, if lists named list1 and list2 store\n",
    "[16.1, 12.3, 22.2, 14.4] and [1.5, 4.3, 7.0, 19.5, 25.1, 46.2] respectively, the program should\n",
    "print false for list1 and true for list2 respectively. Assume the list has at least one element. A\n",
    "one-element list is sorted"
   ]
  },
  {
   "cell_type": "code",
   "execution_count": 19,
   "id": "ac216f0f",
   "metadata": {},
   "outputs": [
    {
     "name": "stdout",
     "output_type": "stream",
     "text": [
      "False\n",
      "True\n"
     ]
    }
   ],
   "source": [
    "def is_sorted(lst):\n",
    "    sorted_lst = sorted(lst)\n",
    "    is_sorted = lst == sorted_lst\n",
    "    print(is_sorted)\n",
    "\n",
    "list1 = [16.1, 12.3, 22.2, 14.4]\n",
    "list2 = [1.5, 4.3, 7.0, 19.5, 25.1, 46.2]\n",
    "\n",
    "is_sorted(list1)\n",
    "is_sorted(list2)\n"
   ]
  },
  {
   "cell_type": "code",
   "execution_count": null,
   "id": "39e4d2d7",
   "metadata": {},
   "outputs": [],
   "source": []
  }
 ],
 "metadata": {
  "kernelspec": {
   "display_name": "Python 3 (ipykernel)",
   "language": "python",
   "name": "python3"
  },
  "language_info": {
   "codemirror_mode": {
    "name": "ipython",
    "version": 3
   },
   "file_extension": ".py",
   "mimetype": "text/x-python",
   "name": "python",
   "nbconvert_exporter": "python",
   "pygments_lexer": "ipython3",
   "version": "3.9.12"
  }
 },
 "nbformat": 4,
 "nbformat_minor": 5
}
