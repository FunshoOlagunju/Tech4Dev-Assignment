{
 "cells": [
  {
   "cell_type": "markdown",
   "id": "d21bcdae",
   "metadata": {},
   "source": [
    "1. What is the output of the following print statements?"
   ]
  },
  {
   "cell_type": "code",
   "execution_count": 3,
   "id": "870a741e",
   "metadata": {},
   "outputs": [
    {
     "name": "stdout",
     "output_type": "stream",
     "text": [
      "\ta\tb\tc\n",
      "\\\\\n",
      "'\n",
      "\"\"\"\n",
      "C:\n",
      "in\tthe downward spiral\n"
     ]
    }
   ],
   "source": [
    "# (\\) is a special character\n",
    "# (\\t) gives a tab before the letters\n",
    "# (\\n) gives a new line\n",
    "print(\"\\ta\\tb\\tc\") \n",
    "\n",
    "print(\"\\\\\\\\\")\n",
    "\n",
    "print(\"'\")\n",
    "\n",
    "print(\"\\\"\\\"\\\"\")\n",
    "\n",
    "print(\"C:\\nin\\tthe downward spiral\")"
   ]
  },
  {
   "cell_type": "markdown",
   "id": "58c90110",
   "metadata": {},
   "source": [
    "\t2. Write a print statement to produce this output:\n",
    "/ \\ // \\\\ /// \\\\\\\n",
    "\n"
   ]
  },
  {
   "cell_type": "code",
   "execution_count": 4,
   "id": "d8742bad",
   "metadata": {},
   "outputs": [
    {
     "name": "stdout",
     "output_type": "stream",
     "text": [
      "/ \\ // \\ /// \\\\\\\n"
     ]
    }
   ],
   "source": [
    "print('/ \\ // \\\\ /// \\\\\\\\\\\\')"
   ]
  },
  {
   "cell_type": "markdown",
   "id": "347d0ca4",
   "metadata": {},
   "source": [
    "3.\tWhat print statements will generate this output?\n",
    "This quote is from Irish poet Oscar Wilde:\n",
    "\"Music makes one feel so romantic- at least it always gets on one's nerves – which is the same thing nowadays.\"\n"
   ]
  },
  {
   "cell_type": "code",
   "execution_count": 5,
   "id": "f712f945",
   "metadata": {},
   "outputs": [
    {
     "name": "stdout",
     "output_type": "stream",
     "text": [
      "This quote is from \n",
      "Irish poet Oscar Wilde:\n",
      "\"Music makes one feel so romantic \n",
      "- at least it always gets on one's nerves – \n",
      "which is the same thing nowadays.\"\n"
     ]
    }
   ],
   "source": [
    "print('This quote is from \\nIrish poet Oscar Wilde:\\n\"Music makes one feel so romantic \\n- at least it always gets on one\\'s nerves – \\nwhich is the same thing nowadays.\"')"
   ]
  },
  {
   "cell_type": "markdown",
   "id": "00605e8a",
   "metadata": {},
   "source": [
    "4.\tWhat print statements will generate this output?\n",
    "A \"quoted\" String is 'much' better if you learn\n",
    "the rules of \"escape sequences.\" Also, \"\" represents an empty String. Don't forget: use \\\" instead of \" ! '' is not the same as \"\n"
   ]
  },
  {
   "cell_type": "code",
   "execution_count": 6,
   "id": "17e17a29",
   "metadata": {},
   "outputs": [
    {
     "name": "stdout",
     "output_type": "stream",
     "text": [
      "A \"quoted\" String is \n",
      "'much' better if you learn \n",
      "the rules of \"escape sequences.\" \n",
      "Also, \"\" represents an empty String. \n",
      "Don't forget: use \\\" instead of \" ! \n",
      "'' is not the same as \"\n"
     ]
    }
   ],
   "source": [
    "print('A \"quoted\" String is \\n\\'much\\' better if you learn \\nthe rules of \"escape sequences.\" \\nAlso, \"\" represents an empty String. \\nDon\\'t forget: use \\\\\" instead of \" ! \\n\\'\\' is not the same as \"')"
   ]
  },
  {
   "cell_type": "markdown",
   "id": "da7e7680",
   "metadata": {},
   "source": [
    "5.\tWhat values result from the following expressions?"
   ]
  },
  {
   "cell_type": "code",
   "execution_count": 7,
   "id": "85c5be83",
   "metadata": {},
   "outputs": [
    {
     "name": "stdout",
     "output_type": "stream",
     "text": [
      "1.8\n"
     ]
    }
   ],
   "source": [
    "print(9/5)"
   ]
  },
  {
   "cell_type": "code",
   "execution_count": 8,
   "id": "e1a7ef0c",
   "metadata": {},
   "outputs": [
    {
     "name": "stdout",
     "output_type": "stream",
     "text": [
      "15\n"
     ]
    }
   ],
   "source": [
    "print(695 % 20)"
   ]
  },
  {
   "cell_type": "code",
   "execution_count": 10,
   "id": "3b6bac04",
   "metadata": {},
   "outputs": [
    {
     "name": "stdout",
     "output_type": "stream",
     "text": [
      "37\n"
     ]
    }
   ],
   "source": [
    "print(7 + 6 * 5)"
   ]
  },
  {
   "cell_type": "code",
   "execution_count": 11,
   "id": "b1049e5d",
   "metadata": {},
   "outputs": [
    {
     "name": "stdout",
     "output_type": "stream",
     "text": [
      "47\n"
     ]
    }
   ],
   "source": [
    "print(7 * 6 + 5)"
   ]
  },
  {
   "cell_type": "code",
   "execution_count": 12,
   "id": "b6cda04f",
   "metadata": {},
   "outputs": [
    {
     "name": "stdout",
     "output_type": "stream",
     "text": [
      "9.6\n"
     ]
    }
   ],
   "source": [
    "print(248 % 100 / 5)"
   ]
  },
  {
   "cell_type": "code",
   "execution_count": 13,
   "id": "7835f426",
   "metadata": {},
   "outputs": [
    {
     "name": "stdout",
     "output_type": "stream",
     "text": [
      "15.75\n"
     ]
    }
   ],
   "source": [
    "print(6 * 3 - 9 / 4)"
   ]
  },
  {
   "cell_type": "code",
   "execution_count": 14,
   "id": "3185a29e",
   "metadata": {},
   "outputs": [
    {
     "name": "stdout",
     "output_type": "stream",
     "text": [
      "-8\n"
     ]
    }
   ],
   "source": [
    "print((5 - 7) * 4)"
   ]
  },
  {
   "cell_type": "code",
   "execution_count": 15,
   "id": "0d46459a",
   "metadata": {},
   "outputs": [
    {
     "name": "stdout",
     "output_type": "stream",
     "text": [
      "9\n"
     ]
    }
   ],
   "source": [
    "print(6 + (18 % (17 - 12)))"
   ]
  },
  {
   "cell_type": "code",
   "execution_count": null,
   "id": "9bdada15",
   "metadata": {},
   "outputs": [],
   "source": []
  }
 ],
 "metadata": {
  "kernelspec": {
   "display_name": "Python 3 (ipykernel)",
   "language": "python",
   "name": "python3"
  },
  "language_info": {
   "codemirror_mode": {
    "name": "ipython",
    "version": 3
   },
   "file_extension": ".py",
   "mimetype": "text/x-python",
   "name": "python",
   "nbconvert_exporter": "python",
   "pygments_lexer": "ipython3",
   "version": "3.9.12"
  }
 },
 "nbformat": 4,
 "nbformat_minor": 5
}
