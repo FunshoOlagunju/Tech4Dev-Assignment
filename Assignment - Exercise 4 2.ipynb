{
 "cells": [
  {
   "cell_type": "markdown",
   "id": "98032dba",
   "metadata": {},
   "source": [
    "1. Write a program to produce the following output using for loop\n",
    "+----+ \\ / / \\ \\ / / \\ \\ / / \\ +----+"
   ]
  },
  {
   "cell_type": "code",
   "execution_count": 1,
   "id": "9a52dee8",
   "metadata": {},
   "outputs": [
    {
     "name": "stdout",
     "output_type": "stream",
     "text": [
      "+----+\n",
      "\\ /\n",
      "/ \\\n",
      "\\ /\n",
      "/ \\\n",
      "\\ /\n",
      "/ \\\n",
      "+----+\n"
     ]
    }
   ],
   "source": [
    "for x in range(5):\n",
    "    if x == 0 or x == 4:\n",
    "        print(\"+----+\")\n",
    "    else:\n",
    "        print(\"\\\\ /\")\n",
    "        print(\"/ \\\\\")\n"
   ]
  },
  {
   "cell_type": "markdown",
   "id": "2ff50add",
   "metadata": {},
   "source": [
    "2. Write a program to produce the following output using for loop"
   ]
  },
  {
   "cell_type": "code",
   "execution_count": 8,
   "id": "cb03e7f1",
   "metadata": {},
   "outputs": [
    {
     "name": "stdout",
     "output_type": "stream",
     "text": [
      "**********\n",
      "**********\n",
      "**********\n",
      "**********\n",
      "**********\n"
     ]
    }
   ],
   "source": [
    "for i in range(5):\n",
    "    print(\"**********\")\n"
   ]
  },
  {
   "cell_type": "markdown",
   "id": "6989bca4",
   "metadata": {},
   "source": [
    "3. Complete the code for the following for loop:\n",
    "for in range(1,7):\n",
    "//your code here\n",
    "so that it prints the following numbers, one per line:\n",
    "a) 1 b) 2 c) 4 d) 30 e) -7 f) 97 g) -4\n",
    "2 4 19 20 -3 94 14\n",
    "3 6 34 10 1 91 32\n",
    "4 8 49 0 5 88 50\n",
    "5 10 64 -10 9 85 68\n",
    "6 12 79 -20 13 82 86"
   ]
  },
  {
   "cell_type": "code",
   "execution_count": 10,
   "id": "5819a524",
   "metadata": {},
   "outputs": [
    {
     "name": "stdout",
     "output_type": "stream",
     "text": [
      "1 2 4 -10 5 97 28\n",
      "2 4 11 0 7 188 42\n",
      "3 6 18 10 9 279 56\n",
      "4 8 25 20 11 370 70\n",
      "5 10 32 30 13 461 84\n",
      "6 12 39 40 15 552 98\n"
     ]
    }
   ],
   "source": [
    "for i in range(1, 7):\n",
    "    a = i * 1\n",
    "    b = i * 2\n",
    "    c = i * 7 - 3\n",
    "    d = i * 10 - 20\n",
    "    e = i * 2 + 3\n",
    "    f = i * 91 + 6\n",
    "    g = i * 14 + 14\n",
    "\n",
    "    print(f\"{a} {b} {c} {d} {e} {f} {g}\")\n"
   ]
  },
  {
   "cell_type": "markdown",
   "id": "5d061315",
   "metadata": {},
   "source": [
    "4. Write a program to produce the following output using for loops. Then\n",
    "use a class constant to make it possible to change the number of lines in\n",
    "the figure."
   ]
  },
  {
   "cell_type": "code",
   "execution_count": 12,
   "id": "2025ac58",
   "metadata": {},
   "outputs": [
    {
     "name": "stdout",
     "output_type": "stream",
     "text": [
      "1\n",
      "22\n",
      "333\n",
      "4444\n",
      "55555\n",
      "666666\n",
      "7777777\n"
     ]
    }
   ],
   "source": [
    "class NumberTriangle:\n",
    "    NUM_LINES = 7\n",
    "\n",
    "    def draw_triangle(self):\n",
    "        for i in range(1, self.NUM_LINES + 1):\n",
    "            pattern = str(i) * i\n",
    "            print(pattern)\n",
    "\n",
    "triangle_instance = NumberTriangle()\n",
    "\n",
    "triangle_instance.draw_triangle()\n"
   ]
  },
  {
   "cell_type": "markdown",
   "id": "f7eca05d",
   "metadata": {},
   "source": [
    "5. "
   ]
  },
  {
   "cell_type": "code",
   "execution_count": 13,
   "id": "1925f62b",
   "metadata": {},
   "outputs": [
    {
     "name": "stdout",
     "output_type": "stream",
     "text": [
      "33.0\n",
      "50.0\n"
     ]
    }
   ],
   "source": [
    "def pay(salary_per_hour, hours_worked):\n",
    "    normaltime_hours = min(hours_worked, 8)\n",
    "    overtime_hours = max(hours_worked - 8, 0)\n",
    "    \n",
    "    normaltime_pay = normaltime_hours * salary_per_hour\n",
    "    overtime_pay = overtime_hours * (1.5 * salary_per_hour)\n",
    "\n",
    "    total_pay = normaltime_pay + overtime_pay\n",
    "    return total_pay\n",
    "\n",
    "salary_per_hour = 5.50\n",
    "hours_worked = 6\n",
    "result = pay(salary_per_hour, hours_worked)\n",
    "print(result) \n",
    "\n",
    "hours_worked_overtime = 11\n",
    "result_overtime = pay(4.00, hours_worked_overtime)\n",
    "print(result_overtime)  \n"
   ]
  },
  {
   "cell_type": "markdown",
   "id": "58526940",
   "metadata": {},
   "source": [
    "6. Write a similar method named area that takes as a parameter the radius of\n",
    "a circle and that returns the area of the circle. For example, the call\n",
    "area(2.0);"
   ]
  },
  {
   "cell_type": "code",
   "execution_count": 19,
   "id": "2fa952d9",
   "metadata": {},
   "outputs": [
    {
     "name": "stdout",
     "output_type": "stream",
     "text": [
      "12.566370614359172\n"
     ]
    }
   ],
   "source": [
    "import math\n",
    "\n",
    "radius = 2.0\n",
    "area = math.pi * radius**2\n",
    "\n",
    "print(area)\n"
   ]
  },
  {
   "cell_type": "code",
   "execution_count": 28,
   "id": "35d54e25",
   "metadata": {},
   "outputs": [
    {
     "name": "stdout",
     "output_type": "stream",
     "text": [
      "sum =  500500\n"
     ]
    }
   ],
   "source": [
    "low = 1\n",
    "high = 1001\n",
    "sum = 0\n",
    "for i in range(low,high):\n",
    "    sum += i\n",
    "print(\"sum = \" , sum)\n",
    "\n",
    "sum?\n",
    "low?\n",
    "high?"
   ]
  },
  {
   "cell_type": "code",
   "execution_count": null,
   "id": "657709d1",
   "metadata": {},
   "outputs": [],
   "source": [
    "low = 300\n",
    "high = 5298\n",
    "sum = 13986903\n",
    "for i in range(low,high):\n",
    "    sum += i\n",
    "print(\"sum = \" , sum)\n",
    "\n",
    "sum?\n",
    "low?\n",
    "high?"
   ]
  },
  {
   "cell_type": "markdown",
   "id": "a87fe5bf",
   "metadata": {},
   "source": [
    "8. Write a program using while loop that prompts the user for numbers until\n",
    "the user types 0, then outputs their sum."
   ]
  },
  {
   "cell_type": "code",
   "execution_count": null,
   "id": "83935165",
   "metadata": {},
   "outputs": [],
   "source": []
  }
 ],
 "metadata": {
  "kernelspec": {
   "display_name": "Python 3 (ipykernel)",
   "language": "python",
   "name": "python3"
  },
  "language_info": {
   "codemirror_mode": {
    "name": "ipython",
    "version": 3
   },
   "file_extension": ".py",
   "mimetype": "text/x-python",
   "name": "python",
   "nbconvert_exporter": "python",
   "pygments_lexer": "ipython3",
   "version": "3.9.12"
  }
 },
 "nbformat": 4,
 "nbformat_minor": 5
}
